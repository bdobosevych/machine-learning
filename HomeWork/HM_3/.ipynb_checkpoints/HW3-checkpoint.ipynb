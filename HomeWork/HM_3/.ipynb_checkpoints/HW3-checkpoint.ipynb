{
 "cells": [
  {
   "cell_type": "markdown",
   "metadata": {},
   "source": [
    "В цій практичній роботі ми спробуємо реалізувати нейронну мережу з двох шарів (прихований і вихідний). Запропонований підхід стане заготовкою для реалізації наступних оптимізацій: MBGD, ADAM та регуляризації. \n",
    "\n",
    "Сьогодні ж вам пропонується додати до цього класу підтримку довільної кількості шарів та нейронів в них (наприклад, передавати їх параметром в конструктор, як це робиться в MLPClassifier за допомогою hidden_layer_sizes). Також потрібно передбачити можливість ранньої зупинки ітераційного процесу, якщо значення штрафної функції не покращуватиметься протягом певної кількості ітерацій. Наприклад, якщо протягом $k$ ітерацій штрафна функція за модулем не стане меншою, ніж на поточному кроці."
   ]
  },
  {
   "cell_type": "code",
   "execution_count": 1,
   "metadata": {},
   "outputs": [],
   "source": [
    "import numpy as np\n",
    "import pandas as pd\n",
    "from sklearn.model_selection import train_test_split\n",
    "from mpl_toolkits.mplot3d import Axes3D\n",
    "import matplotlib.pyplot as plt\n",
    "\n",
    "from matplotlib.colors import ListedColormap\n",
    "cm_bright = ListedColormap(['#FF0000', '#0000FF'])\n",
    "%matplotlib inline\n",
    "from sklearn.metrics import accuracy_score\n",
    "\n",
    "import sklearn.linear_model"
   ]
  },
  {
   "cell_type": "code",
   "execution_count": 2,
   "metadata": {},
   "outputs": [],
   "source": [
    "def plot_surface(cls, x_1, x_2, ax=None, threshold=0.5, contourf=False):\n",
    "    xx1, xx2 = np.meshgrid(np.linspace(x_1.min(), x_1.max(), 100), \n",
    "                           np.linspace(x_2.min(), x_2.max(), 100))\n",
    "\n",
    "    X_pred = np.c_[xx1.ravel(), xx2.ravel()]\n",
    "    pred = cls.predict_proba(X_pred)[:, 0]\n",
    "    Z = pred.reshape((100, 100))\n",
    "    if ax is None:\n",
    "        ax = plt.gca()\n",
    "    ax.contour(xx1, xx2, Z, levels=[threshold], colors='black')\n",
    "    ax.set_xlim((x_1.min(), x_1.max()))\n",
    "    ax.set_ylim((x_2.min(), x_2.max()))"
   ]
  },
  {
   "cell_type": "code",
   "execution_count": 3,
   "metadata": {},
   "outputs": [],
   "source": [
    "def plot_data(X, y):\n",
    "    ax = plt.gca()\n",
    "    ax.scatter(X[:,0], X[:,1], c=(y == 1), cmap=cm_bright)"
   ]
  },
  {
   "cell_type": "code",
   "execution_count": 4,
   "metadata": {},
   "outputs": [],
   "source": [
    "#Copy of NeuralNet for 1 hidden layer\n",
    "class NeuralNet:\n",
    "    \"\"\"\n",
    "    NN for binary classification\n",
    "    Attributes:\n",
    "    ...\n",
    "    \"\"\"\n",
    "    \n",
    "    def __init__(self, normalize = True, learning_rate = 0.01, num_iter = 30000,\n",
    "                 hidden_layer_sizes =(4,4),not_improve_iters =500,tol =1e-5):\n",
    "        self.learning_rate = learning_rate\n",
    "        self.num_iter = num_iter\n",
    "        self.normalize = normalize\n",
    "        self.hidden_layer_sizes =hidden_layer_sizes;\n",
    "        self.layers_count =len(hidden_layer_sizes);\n",
    "        self.not_improve_iters =not_improve_iters;\n",
    "        self.tol =tol;\n",
    "        self.hidden_layers_count=len(hidden_layer_sizes);\n",
    "        self.hidden_layer_sizes =hidden_layer_sizes;\n",
    "    \n",
    "    def __normalize(self, X, mean = None, std = None):\n",
    "        \"\"\"\n",
    "        Зверніть увагу, що нормалізація вхідних даних є дуже важливою для швидкодії нейронних мереж.\n",
    "        \"\"\"\n",
    "        n = X.shape[0]\n",
    "        m = mean\n",
    "        if m is None:\n",
    "            m = np.mean(X, axis=1).reshape((n, 1))\n",
    "        s = std\n",
    "        if s is None:\n",
    "            s = np.std(X, axis=1).reshape((n, 1))\n",
    "        X_new = (X - m) / s**2\n",
    "        return X_new, m, s\n",
    "\n",
    "    def __sigmoid(self, Z):\n",
    "        \"\"\"\n",
    "        В наступних практичних потрібно буде додати підтримку й інших активаційних функцій - це один з гіперпараметрів. \n",
    "        Їх можна вибирати для всіх шарів одночасно або мати різні активаційні функції на кожному з них.\n",
    "        \"\"\"\n",
    "        return 1 / (1 + np.exp(-Z))\n",
    "    \n",
    "    def __initialize_parameters(self, n_x, n_1):\n",
    "        W1 = np.random.randn(n_1, n_x) * 0.01\n",
    "        b1 = np.zeros((n_1, 1))\n",
    "        W2 = np.random.randn(1, n_1) * 0.01\n",
    "        b2 = 0 # у вихідному шарі лише 1 нейрон\n",
    "        self.parameters = {\"W1\" : W1, \"b1\" : b1, \"W2\" : W2, \"b2\" : b2}\n",
    "       \n",
    "    def __forward_propagation(self, X):\n",
    "        W1 = self.parameters[\"W1\"]\n",
    "        b1 = self.parameters[\"b1\"]\n",
    "        W2 = self.parameters[\"W2\"]\n",
    "        b2 = self.parameters[\"b2\"]\n",
    "\n",
    "        Z1 = np.dot(W1, X) + b1\n",
    "        A1 = self.__sigmoid(Z1)\n",
    "\n",
    "        Z2 = np.dot(W2, A1) + b2\n",
    "        A2 = self.__sigmoid(Z2)\n",
    "\n",
    "        \n",
    "        cache = (W1, b1, W2, b2, Z1, A1, Z2, A2)\n",
    "\n",
    "        return A2, cache\n",
    "    \n",
    "    def compute_cost(self, A, Y):\n",
    "        m = Y.shape[1]\n",
    "        res = Y * np.log(A) + (1 - Y) * np.log(1 - A)\n",
    "        J = -(1 / m) * np.sum(res)\n",
    "        return J\n",
    "        \n",
    "    def __backward_propagation(self, X, Y, cache):\n",
    "        m = X.shape[1]\n",
    "        n = X.shape[0]\n",
    "        (W1, b1, W2, b2, Z1, A1, Z2, A2) = cache\n",
    "        \n",
    "        dZ2 = A2 - Y\n",
    "        dW2 = 1. / m * np.dot(dZ2, A1.T)\n",
    "        db2 = 1. / m * np.sum(dZ2, axis = 1, keepdims = True)\n",
    "        \n",
    "        dA1 = np.dot(W2.T, dZ2)\n",
    "        dZ1 = np.multiply(dA1, np.multiply(A1, 1 - A1))\n",
    "        dW1 = 1. / m * np.dot(dZ1, X.T)\n",
    "        db1 = 1. / m * np.sum(dZ1, axis = 1, keepdims = True)\n",
    "        \n",
    "        \n",
    "\n",
    "        grads = {\"dZ1\" : dZ1, \"dW1\" : dW1, \"db1\" : db1, \"dZ2\" : dZ2, \"dW2\" : dW2, \"db2\" : db2}\n",
    "        return grads\n",
    "    \n",
    "    def __update_parameters(self, grads):\n",
    "        W1 = self.parameters[\"W1\"]\n",
    "        b1 = self.parameters[\"b1\"]\n",
    "        W2 = self.parameters[\"W2\"]\n",
    "        b2 = self.parameters[\"b2\"]\n",
    "\n",
    "        dW1 = grads[\"dW1\"]\n",
    "        db1 = grads[\"db1\"]\n",
    "        dW2 = grads[\"dW2\"]\n",
    "        db2 = grads[\"db2\"]\n",
    "        \n",
    "\n",
    "        self.parameters[\"W1\"] = W1 - self.learning_rate * dW1\n",
    "        self.parameters[\"b1\"] = b1 - self.learning_rate * db1\n",
    "        self.parameters[\"W2\"] = W2 - self.learning_rate * dW2\n",
    "        self.parameters[\"b2\"] = b2 - self.learning_rate * db2\n",
    "\n",
    "        \n",
    "    def fit(self, X_vert, Y_vert, print_cost = True):\n",
    "        \n",
    "        X, Y = X_vert.T, Y_vert.T\n",
    "        \n",
    "        if self.normalize:\n",
    "            X, self.__mean, self.__std = self.__normalize(X)\n",
    "        \n",
    "        costs = []\n",
    "        improve_costs =[];\n",
    "        m = X.shape[1]\n",
    "        n_x = X.shape[0]\n",
    "        \n",
    "        self.__initialize_parameters(n_x, 20)\n",
    "\n",
    "        for i in range(self.num_iter):\n",
    "            A, cache = self.__forward_propagation(X)\n",
    "\n",
    "            cost = self.compute_cost(A, Y)\n",
    "\n",
    "            grads = self.__backward_propagation(X, Y, cache)\n",
    "\n",
    "            self.__update_parameters(grads)\n",
    "            \n",
    "            if i%self.not_improve_iters ==0:\n",
    "                improve_costs.append(cost);\n",
    "                imp_len =len(improve_costs);\n",
    "                if imp_len >2:\n",
    "                    if abs(improve_costs[imp_len-1] - improve_costs[imp_len-2]) < self.tol:\n",
    "                        return;\n",
    "            \n",
    "            \n",
    "            \n",
    "            if print_cost and i % 1000 == 0:\n",
    "                print(\"{}-th iteration: {}\".format(i, cost))\n",
    "\n",
    "            if i % 1000 == 0:\n",
    "                costs.append(cost)\n",
    "\n",
    "        if print_cost:\n",
    "            plt.plot(costs)\n",
    "            plt.ylabel(\"Cost\")\n",
    "            plt.xlabel(\"Iteration, *1000\")\n",
    "            plt.show()\n",
    "    \n",
    "    def predict_proba(self, X_vert):\n",
    "        X = X_vert.T\n",
    "        if self.normalize:\n",
    "            X, _, _ = self.__normalize(X, self.__mean, self.__std)\n",
    "        \n",
    "        probs = self.__forward_propagation(X)[0]\n",
    "        \n",
    "        return np.column_stack((probs.T, 1 - probs.T))\n",
    "    \n",
    "    def predict(self, X_vert):\n",
    "        positive_probs = self.predict_proba(X_vert)[:, 0]\n",
    "        return (positive_probs >= 0.5).astype(int)   \n"
   ]
  },
  {
   "cell_type": "code",
   "execution_count": 5,
   "metadata": {},
   "outputs": [],
   "source": [
    "class NeuralNet:\n",
    "    \"\"\"\n",
    "    NN for binary classification\n",
    "    Attributes:\n",
    "    ...\n",
    "    \"\"\"\n",
    "    \n",
    "    def __init__(self, normalize = True, learning_rate = 0.01, num_iter = 30000,\n",
    "                 hidden_layer_sizes =(5,10),not_improve_iters =500,tol =1e-10):\n",
    "        self.learning_rate = learning_rate\n",
    "        self.num_iter = num_iter\n",
    "        self.normalize = normalize\n",
    "        \n",
    "        self.hidden_layer_sizes =hidden_layer_sizes;\n",
    "        self.layers_count =len(hidden_layer_sizes);\n",
    "        \n",
    "        self.not_improve_iters =not_improve_iters;\n",
    "        self.tol =tol;\n",
    "    \n",
    "    def __normalize(self, X, mean = None, std = None):\n",
    "        \"\"\"\n",
    "        Зверніть увагу, що нормалізація вхідних даних є дуже важливою для швидкодії нейронних мереж.\n",
    "        \"\"\"\n",
    "        n = X.shape[0]\n",
    "        m = mean\n",
    "        if m is None:\n",
    "            m = np.mean(X, axis=1).reshape((n, 1))\n",
    "        s = std\n",
    "        if s is None:\n",
    "            s = np.std(X, axis=1).reshape((n, 1))\n",
    "        X_new = (X - m) / s**2\n",
    "        return X_new, m, s\n",
    "\n",
    "    def __sigmoid(self, Z):\n",
    "        \"\"\"\n",
    "        В наступних практичних потрібно буде додати підтримку й інших активаційних функцій - це один з гіперпараметрів. \n",
    "        Їх можна вибирати для всіх шарів одночасно або мати різні активаційні функції на кожному з них.\n",
    "        \"\"\"\n",
    "        return 1 / (1 + np.exp(-Z))\n",
    "    \n",
    "    def __initialize_parameters(self, n_x, n_arr):\n",
    "        layers =len(n_arr);\n",
    "        W_arr =[];\n",
    "        b_arr =[];\n",
    "        #Init first layer\n",
    "        W_first = np.random.randn(n_arr[0], n_x) * 0.01;\n",
    "        b_first = np.zeros((n_arr[0], 1));\n",
    "        W_arr.append(W_first);\n",
    "        b_arr.append(b_first);\n",
    "        \n",
    "        # Перебрати всі слої окрім першого та останнього\n",
    "        ##???\n",
    "        for n_l in range(1,layers):\n",
    "            W_temp =np.random.randn(n_arr[n_l], n_arr[n_l-1]) * 0.01;\n",
    "            b_temp = np.zeros((n_arr[n_l], 1));\n",
    "            W_arr.append(W_temp);\n",
    "            b_arr.append(b_temp);\n",
    "        \n",
    "        #Init last layer\n",
    "        W_last =np.random.randn(1, n_arr[layers-1]) * 0.01\n",
    "        b_last = 0;# The last layer has only one neuron\n",
    "        \n",
    "        W_arr.append(W_last);\n",
    "        b_arr.append(b_last);\n",
    "        \n",
    "        print(\"Init parameters.\")\n",
    "        print(\"W coefs len: \",len(W_arr),\" b coefs len: \",len(b_arr));\n",
    "        \n",
    "        for w_debug in W_arr:\n",
    "            print(\"W shape: \",w_debug.shape);\n",
    "        \n",
    "        self.parameters = {\"W_arr\" : W_arr, \"b_arr\" : b_arr}\n",
    "       \n",
    "    def __forward_propagation(self, X):\n",
    "        \n",
    "        W_arr =self.parameters[\"W_arr\"]\n",
    "        b_arr = self.parameters[\"b_arr\"]\n",
    "        \n",
    "        W_first = W_arr[0];\n",
    "        b_first = b_arr[0];\n",
    "        \n",
    "        W_last =W_arr[len(W_arr)-1];\n",
    "        b_last =b_arr[len(b_arr)-1];\n",
    "        \n",
    "        Z_arr =[];\n",
    "        A_arr =[];\n",
    "        \n",
    "        Z_first =np.dot(W_first,X)+b_first;\n",
    "        A_first = self.__sigmoid(Z_first);\n",
    "        \n",
    "        \n",
    "        Z_arr.append(Z_first);\n",
    "        A_arr.append(A_first);\n",
    "        \n",
    "        layers = self.layers_count;\n",
    "        for l in range(1,layers+1):#range(1,layers) -> range(1,layers+1)\n",
    "            Z_temp = np.dot(W_arr[l],A_arr[l-1])+b_arr[l];\n",
    "            A_temp = self.__sigmoid(Z_temp);\n",
    "            Z_arr.append(Z_temp);\n",
    "            A_arr.append(A_temp);\n",
    "\n",
    "        cache =(W_arr,b_arr,Z_arr,A_arr);\n",
    "        ##debug\n",
    "#         print(\"__forward_propagation:\")\n",
    "#         print(\"W_arr shapes:\")\n",
    "#         for w_debug in W_arr:\n",
    "#             print(\"W shape: \",w_debug.shape);\n",
    "        \n",
    "#         print(\"Z_arr shapes:\")\n",
    "#         for z_debug in Z_arr:\n",
    "#             print(\"Z shape: \",z_debug.shape);\n",
    "            \n",
    "            \n",
    "#         print(\"A_arr shapes:\")\n",
    "#         for a_debug in Z_arr:\n",
    "#             print(\"A shape: \",a_debug.shape);\n",
    "        \n",
    "        return A_arr[-1], cache\n",
    "    \n",
    "    def compute_cost(self, A, Y):\n",
    "        m = Y.shape[1]\n",
    "        res = Y * np.log(A) + (1 - Y) * np.log(1 - A)\n",
    "        J = -(1 / m) * np.sum(res)\n",
    "        return J\n",
    "        \n",
    "    def __backward_propagation(self, X, Y, cache):\n",
    "        m = X.shape[1]\n",
    "        n = X.shape[0]\n",
    "        #(W1, b1, W2, b2, Z1, A1, Z2, A2) = cache\n",
    "        (W_arr,b_arr,Z_arr,A_arr) = cache\n",
    "        \n",
    "        dZ_arr=[];\n",
    "        dW_arr =[];\n",
    "        dA_arr=[];\n",
    "        db_arr =[];\n",
    "        \n",
    "        dZ_last = A_arr[-1] -Y;# Get last A\n",
    "        dW_last = 1. / m * np.dot(dZ_last, A_arr[-2].T);\n",
    "        db_last =1. / m * np.sum(dZ_last, axis = 1, keepdims = True);\n",
    "        dA_last =np.dot(W_arr[-1].T,dZ_last);\n",
    "        \n",
    "        dZ_arr.insert(0,dZ_last); # insert value at front\n",
    "        dW_arr.insert(0,dW_last);\n",
    "        db_arr.insert(0,db_last);\n",
    "        dA_arr.insert(0,dA_last);\n",
    "        \n",
    "        # inverse iter till the first element(not inc.)\n",
    "#         print(\"Debug place\")\n",
    "#         print(\"m = \",m)\n",
    "#         print(\"n = \",n)\n",
    "        for l_inv in range(len(W_arr)-2,0,-1):\n",
    "#             print(\"-----------------\")\n",
    "#             print(\"W shape: \",W_arr[l_inv].shape)\n",
    "#             print(\"W.T shape: \",W_arr[l_inv].T.shape);\n",
    "#             print(\"dZ shape: \",dZ_arr[0].shape);\n",
    "            \n",
    "            #dA_temp =np.dot(W_arr[l_inv].T,dZ_arr[0]);\n",
    "            \n",
    "            #print(\"dA_temp shape: \",dA_temp.shape);\n",
    "            \n",
    "            dZ_temp =np.multiply(dA_arr[0], np.multiply(A_arr[l_inv], 1 - A_arr[l_inv])); #A_arr[l_inv] ->A_arr[l_inv-1]\n",
    "            \n",
    "#             print(\"dZ_temp shape: \",dZ_temp.shape);\n",
    "            dW_temp =1. / m * np.dot(dZ_temp, A_arr[l_inv-1].T);#A_arr[l_inv] ->A_arr[l_inv-1]\n",
    "            \n",
    "#             print(\"dW_temp shape: \",dW_temp.shape);\n",
    "            \n",
    "            db_temp =1. / m * np.sum(dZ_temp, axis = 1, keepdims = True);\n",
    "            \n",
    "#             print(\"db_temp shape: \",db_temp.shape);\n",
    "            dA_temp =np.dot(W_arr[l_inv].T,dZ_temp);\n",
    "            \n",
    "            dZ_arr.insert(0,dZ_temp);\n",
    "            dW_arr.insert(0,dW_temp);\n",
    "            dA_arr.insert(0,dA_temp);\n",
    "            db_arr.insert(0,db_temp);\n",
    "        \n",
    "        \n",
    "        #dA_first=np.dot(W_arr[0].T, dZ_arr[0]);#W_arr[1].T ->W_arr[0].T\n",
    "        dA_first =dA_arr[0];\n",
    "        dZ_first = np.multiply(dA_first, np.multiply(A_arr[0], 1 - A_arr[0]));\n",
    "        dW_first = 1. / m * np.dot(dZ_first, X.T)\n",
    "        db_first =1. / m * np.sum(dZ_first, axis = 1, keepdims = True)\n",
    "        \n",
    "        dZ_arr.insert(0,dZ_first); # insert value at front\n",
    "        dW_arr.insert(0,dW_first);\n",
    "        #dA_arr.insert(0,dA_first);\n",
    "        db_arr.insert(0,db_first);\n",
    "        \n",
    "        #dZ2 = A2 - Y\n",
    "        #dW2 = 1. / m * np.dot(dZ2, A1.T)\n",
    "        #db2 = 1. / m * np.sum(dZ2, axis = 1, keepdims = True)\n",
    "        \n",
    "        #dA1 = np.dot(W2.T, dZ2)\n",
    "        #dZ1 = np.multiply(dA1, np.multiply(A1, 1 - A1))\n",
    "        #dW1 = 1. / m * np.dot(dZ1, X.T)\n",
    "        #db1 = 1. / m * np.sum(dZ1, axis = 1, keepdims = True)\n",
    "        \n",
    "\n",
    "        #grads = {\"dZ1\" : dZ1, \"dW1\" : dW1, \"db1\" : db1, \"dZ2\" : dZ2, \"dW2\" : dW2, \"db2\" : db2}\n",
    "        grads ={\"dZ_arr\":dZ_arr,\"dW_arr\":dW_arr,\"db_arr\":db_arr}\n",
    "        return grads\n",
    "    \n",
    "    def __update_parameters(self, grads):\n",
    "        W_arr =self.parameters[\"W_arr\"];\n",
    "        b_arr =self.parameters[\"b_arr\"];\n",
    "        \n",
    "        dW_arr =grads[\"dW_arr\"];\n",
    "        db_arr =grads[\"db_arr\"];\n",
    "        \n",
    "        W_new_arr =W_arr.copy();\n",
    "        b_new_arr = b_arr.copy();\n",
    "        for l in range(0,len(W_arr)):\n",
    "            W_new_arr[l]-=self.learning_rate * dW_arr[l];\n",
    "            b_new_arr[l]-=self.learning_rate * db_arr[l];\n",
    "        \n",
    "        self.parameters[\"W_arr\"] = W_new_arr;\n",
    "        self.parameters[\"b_arr\"] = b_new_arr;\n",
    "        \n",
    "        \n",
    "        \n",
    "    def fit(self, X_vert, Y_vert, print_cost = True):\n",
    "        \n",
    "        X, Y = X_vert.T, Y_vert.T\n",
    "        \n",
    "        if self.normalize:\n",
    "            X, self.__mean, self.__std = self.__normalize(X)\n",
    "        \n",
    "        costs = []\n",
    "        improve_costs =[];\n",
    "        m = X.shape[1]\n",
    "        n_x = X.shape[0]\n",
    "        \n",
    "        self.__initialize_parameters(n_x,self.hidden_layer_sizes)\n",
    "\n",
    "        for i in range(self.num_iter):\n",
    "            A, cache = self.__forward_propagation(X)\n",
    "            \n",
    "            cost = self.compute_cost(A, Y)\n",
    "\n",
    "            grads = self.__backward_propagation(X, Y, cache)\n",
    "\n",
    "            self.__update_parameters(grads)\n",
    "            \n",
    "            if i%self.not_improve_iters ==0:\n",
    "                improve_costs.append(cost);\n",
    "                imp_len =len(improve_costs);\n",
    "                if imp_len >2:\n",
    "                    if abs(improve_costs[imp_len-1] - improve_costs[imp_len-2]) < self.tol:\n",
    "                        return;\n",
    "            \n",
    "            \n",
    "            \n",
    "            if print_cost and i % 1000 == 0:\n",
    "                print(\"{}-th iteration: {}\".format(i, cost))\n",
    "\n",
    "            if i % 1000 == 0:\n",
    "                costs.append(cost)\n",
    "\n",
    "        if print_cost:\n",
    "            plt.plot(costs)\n",
    "            plt.ylabel(\"Cost\")\n",
    "            plt.xlabel(\"Iteration, *1000\")\n",
    "            plt.show()\n",
    "    \n",
    "    def predict_proba(self, X_vert):\n",
    "        X = X_vert.T\n",
    "        if self.normalize:\n",
    "            X, _, _ = self.__normalize(X, self.__mean, self.__std)\n",
    "        \n",
    "        probs = self.__forward_propagation(X)[0]\n",
    "        \n",
    "        return np.column_stack((probs.T, 1 - probs.T))\n",
    "    \n",
    "    def predict(self, X_vert):\n",
    "        positive_probs = self.predict_proba(X_vert)[:, 0]\n",
    "        return (positive_probs >= 0.5).astype(int)   \n"
   ]
  },
  {
   "cell_type": "markdown",
   "metadata": {},
   "source": [
    "Спочатку спробуйте цей клас на одній задачі, а потім на іншій."
   ]
  },
  {
   "cell_type": "code",
   "execution_count": 6,
   "metadata": {},
   "outputs": [],
   "source": [
    "# data_columns = [\"exam1\", \"exam2\"]\n",
    "# target_column = \"submitted\"\n",
    "# df = pd.read_csv(\"sats.csv\")\n",
    "# X, Y = df[data_columns].values, df[target_column]\n",
    "# print('Training set: X={}, y={}'.format(X.shape, Y.shape))"
   ]
  },
  {
   "cell_type": "code",
   "execution_count": 7,
   "metadata": {},
   "outputs": [
    {
     "name": "stdout",
     "output_type": "stream",
     "text": [
      "Training set: X=(118, 2), y=(118,)\n"
     ]
    }
   ],
   "source": [
    "data_columns = [\"test1\", \"test2\"]\n",
    "target_column = \"passed\"\n",
    "df = pd.read_csv(\"tests.csv\")\n",
    "X, Y = df[data_columns].values, df[target_column]\n",
    "print('Training set: X={}, y={}'.format(X.shape, Y.shape))"
   ]
  },
  {
   "cell_type": "code",
   "execution_count": 8,
   "metadata": {},
   "outputs": [
    {
     "data": {
      "image/png": "[encoded data removed]",
      "text/plain": [
       "<Figure size 432x288 with 1 Axes>"
      ]
     },
     "metadata": {
      "needs_background": "light"
     },
     "output_type": "display_data"
    }
   ],
   "source": [
    "plot_data(X, Y)"
   ]
  },
  {
   "cell_type": "code",
   "execution_count": 9,
   "metadata": {},
   "outputs": [],
   "source": [
    "cls = NeuralNet(normalize = True, learning_rate = 0.01, num_iter = 10001,hidden_layer_sizes = (2,),not_improve_iters=10000,tol=1e-8)"
   ]
  },
  {
   "cell_type": "code",
   "execution_count": 10,
   "metadata": {},
   "outputs": [
    {
     "name": "stdout",
     "output_type": "stream",
     "text": [
      "Init parameters.\n",
      "W coefs len:  2  b coefs len:  2\n",
      "W shape:  (2, 2)\n",
      "W shape:  (1, 2)\n",
      "0-th iteration: 0.6932824022726359\n",
      "1000-th iteration: 0.6930022488109947\n",
      "2000-th iteration: 0.6930013301121454\n",
      "3000-th iteration: 0.6930002478025454\n",
      "4000-th iteration: 0.6929986984935353\n",
      "5000-th iteration: 0.692996464750484\n",
      "6000-th iteration: 0.6929932339915282\n",
      "7000-th iteration: 0.6929885564115894\n",
      "8000-th iteration: 0.6929817860796387\n",
      "9000-th iteration: 0.6929719995606937\n",
      "10000-th iteration: 0.6929578862213471\n"
     ]
    },
    {
     "data": {
      "image/png": "[encoded data removed]",
      "text/plain": [
       "<Figure size 432x288 with 1 Axes>"
      ]
     },
     "metadata": {
      "needs_background": "light"
     },
     "output_type": "display_data"
    }
   ],
   "source": [
    "cls.fit(X, Y.values.reshape((df.shape[0], 1)))"
   ]
  },
  {
   "cell_type": "code",
   "execution_count": 11,
   "metadata": {},
   "outputs": [
    {
     "name": "stdout",
     "output_type": "stream",
     "text": [
      "{'W_arr': [array([[-0.03048234,  0.01213061],\n",
      "       [ 0.03846637, -0.00479799]]), array([[ 0.03074324, -0.03832075]])], 'b_arr': [array([[-4.45818461e-05],\n",
      "       [-6.78174425e-05]]), array([[-0.03028867]])]}\n"
     ]
    }
   ],
   "source": [
    "print(cls.parameters)"
   ]
  },
  {
   "cell_type": "code",
   "execution_count": 12,
   "metadata": {},
   "outputs": [
    {
     "data": {
      "text/plain": [
       "array([[0.49113504, 0.50886496],\n",
       "       [0.49136884, 0.50863116],\n",
       "       [0.49199377, 0.50800623],\n",
       "       [0.49168453, 0.50831547],\n",
       "       [0.49169028, 0.50830972],\n",
       "       [0.49166137, 0.50833863],\n",
       "       [0.49187181, 0.50812819],\n",
       "       [0.49093051, 0.50906949],\n",
       "       [0.49109809, 0.50890191],\n",
       "       [0.49167985, 0.50832015],\n",
       "       [0.49143166, 0.50856834],\n",
       "       [0.49169958, 0.50830042],\n",
       "       [0.49130574, 0.50869426],\n",
       "       [0.49157572, 0.50842428],\n",
       "       [0.4915416 , 0.5084584 ],\n",
       "       [0.49103062, 0.50896938],\n",
       "       [0.49192164, 0.50807836],\n",
       "       [0.49106671, 0.50893329],\n",
       "       [0.49142871, 0.50857129],\n",
       "       [0.49121456, 0.50878544],\n",
       "       [0.4916205 , 0.5083795 ],\n",
       "       [0.49174108, 0.50825892],\n",
       "       [0.4918418 , 0.5081582 ],\n",
       "       [0.49162519, 0.50837481],\n",
       "       [0.49194157, 0.50805843],\n",
       "       [0.49169533, 0.50830467],\n",
       "       [0.4918589 , 0.5081411 ],\n",
       "       [0.49184519, 0.50815481],\n",
       "       [0.49132434, 0.50867566],\n",
       "       [0.4912965 , 0.5087035 ],\n",
       "       [0.49148143, 0.50851857],\n",
       "       [0.49118086, 0.50881914],\n",
       "       [0.49185775, 0.50814225],\n",
       "       [0.4917896 , 0.5082104 ],\n",
       "       [0.49121366, 0.50878634],\n",
       "       [0.49183187, 0.50816813],\n",
       "       [0.49138308, 0.50861692],\n",
       "       [0.4909123 , 0.5090877 ],\n",
       "       [0.49154734, 0.50845266],\n",
       "       [0.49120697, 0.50879303],\n",
       "       [0.49149956, 0.50850044],\n",
       "       [0.49153636, 0.50846364],\n",
       "       [0.49155445, 0.50844555],\n",
       "       [0.49192039, 0.50807961],\n",
       "       [0.49108547, 0.50891453],\n",
       "       [0.49178761, 0.50821239],\n",
       "       [0.4919278 , 0.5080722 ],\n",
       "       [0.49107092, 0.50892908],\n",
       "       [0.49116015, 0.50883985],\n",
       "       [0.49204256, 0.50795744],\n",
       "       [0.49162629, 0.50837371],\n",
       "       [0.49091976, 0.50908024],\n",
       "       [0.49175586, 0.50824414],\n",
       "       [0.49145564, 0.50854436],\n",
       "       [0.4917618 , 0.5082382 ],\n",
       "       [0.49192119, 0.50807881],\n",
       "       [0.4918063 , 0.5081937 ],\n",
       "       [0.49121819, 0.50878181],\n",
       "       [0.49120022, 0.50879978],\n",
       "       [0.49115021, 0.50884979],\n",
       "       [0.49109797, 0.50890203],\n",
       "       [0.49145894, 0.50854106],\n",
       "       [0.49168553, 0.50831447],\n",
       "       [0.49110267, 0.50889733],\n",
       "       [0.49150687, 0.50849313],\n",
       "       [0.49155079, 0.50844921],\n",
       "       [0.49191568, 0.50808432],\n",
       "       [0.49192621, 0.50807379],\n",
       "       [0.49109558, 0.50890442],\n",
       "       [0.49096842, 0.50903158],\n",
       "       [0.4916825 , 0.5083175 ],\n",
       "       [0.49178001, 0.50821999],\n",
       "       [0.49116992, 0.50883008],\n",
       "       [0.49107643, 0.50892357],\n",
       "       [0.49134352, 0.50865648],\n",
       "       [0.49166581, 0.50833419],\n",
       "       [0.49101412, 0.50898588],\n",
       "       [0.49177402, 0.50822598],\n",
       "       [0.49100759, 0.50899241],\n",
       "       [0.49160951, 0.50839049],\n",
       "       [0.49127812, 0.50872188],\n",
       "       [0.49164792, 0.50835208],\n",
       "       [0.49164209, 0.50835791],\n",
       "       [0.49128956, 0.50871044],\n",
       "       [0.4915293 , 0.5084707 ],\n",
       "       [0.49192124, 0.50807876],\n",
       "       [0.49144496, 0.50855504],\n",
       "       [0.49191935, 0.50808065],\n",
       "       [0.49186844, 0.50813156],\n",
       "       [0.49084606, 0.50915394],\n",
       "       [0.49145479, 0.50854521],\n",
       "       [0.4916245 , 0.5083755 ],\n",
       "       [0.49128122, 0.50871878],\n",
       "       [0.49091594, 0.50908406],\n",
       "       [0.49119698, 0.50880302],\n",
       "       [0.49134057, 0.50865943],\n",
       "       [0.49168914, 0.50831086],\n",
       "       [0.49175415, 0.50824585],\n",
       "       [0.49102071, 0.50897929],\n",
       "       [0.49165493, 0.50834507],\n",
       "       [0.49163758, 0.50836242],\n",
       "       [0.49120971, 0.50879029],\n",
       "       [0.49138778, 0.50861222],\n",
       "       [0.49135405, 0.50864595],\n",
       "       [0.49091127, 0.50908873],\n",
       "       [0.49171301, 0.50828699],\n",
       "       [0.49200952, 0.50799048],\n",
       "       [0.49151127, 0.50848873],\n",
       "       [0.49112591, 0.50887409],\n",
       "       [0.49142155, 0.50857845],\n",
       "       [0.49091404, 0.50908596],\n",
       "       [0.49186789, 0.50813211],\n",
       "       [0.49094958, 0.50905042],\n",
       "       [0.49172709, 0.50827291],\n",
       "       [0.49151527, 0.50848473],\n",
       "       [0.49117202, 0.50882798],\n",
       "       [0.49171541, 0.50828459],\n",
       "       [0.49200474, 0.50799526]])"
      ]
     },
     "execution_count": 12,
     "metadata": {},
     "output_type": "execute_result"
    }
   ],
   "source": [
    "Y_prob = cls.predict_proba(X)\n",
    "Y_prob"
   ]
  },
  {
   "cell_type": "code",
   "execution_count": 13,
   "metadata": {},
   "outputs": [
    {
     "data": {
      "text/plain": [
       "array([0, 0, 0, 0, 0, 0, 0, 0, 0, 0, 0, 0, 0, 0, 0, 0, 0, 0, 0, 0, 0, 0,\n",
       "       0, 0, 0, 0, 0, 0, 0, 0, 0, 0, 0, 0, 0, 0, 0, 0, 0, 0, 0, 0, 0, 0,\n",
       "       0, 0, 0, 0, 0, 0, 0, 0, 0, 0, 0, 0, 0, 0, 0, 0, 0, 0, 0, 0, 0, 0,\n",
       "       0, 0, 0, 0, 0, 0, 0, 0, 0, 0, 0, 0, 0, 0, 0, 0, 0, 0, 0, 0, 0, 0,\n",
       "       0, 0, 0, 0, 0, 0, 0, 0, 0, 0, 0, 0, 0, 0, 0, 0, 0, 0, 0, 0, 0, 0,\n",
       "       0, 0, 0, 0, 0, 0, 0, 0])"
      ]
     },
     "execution_count": 13,
     "metadata": {},
     "output_type": "execute_result"
    }
   ],
   "source": [
    "Y_hat = cls.predict(X)\n",
    "Y_hat"
   ]
  },
  {
   "cell_type": "code",
   "execution_count": 14,
   "metadata": {},
   "outputs": [
    {
     "data": {
      "text/plain": [
       "0.5084745762711864"
      ]
     },
     "execution_count": 14,
     "metadata": {},
     "output_type": "execute_result"
    }
   ],
   "source": [
    "accuracy_score(Y, Y_hat)"
   ]
  },
  {
   "cell_type": "code",
   "execution_count": 15,
   "metadata": {},
   "outputs": [
    {
     "name": "stderr",
     "output_type": "stream",
     "text": [
      "<ipython-input-2-1d8d12161a03>:10: UserWarning: No contour levels were found within the data range.\n",
      "  ax.contour(xx1, xx2, Z, levels=[threshold], colors='black')\n"
     ]
    },
    {
     "data": {
      "image/png": "[encoded data removed]",
      "text/plain": [
       "<Figure size 432x288 with 1 Axes>"
      ]
     },
     "metadata": {
      "needs_background": "light"
     },
     "output_type": "display_data"
    }
   ],
   "source": [
    "plot_data(X, Y)\n",
    "plot_surface(cls, X[:, 0], X[:, 1])"
   ]
  },
  {
   "cell_type": "markdown",
   "metadata": {},
   "source": [
    "Зверніть увагу на границю прийняття рішення. Модель старається побудувати складну криву, що може свідчити про її перетренування. Порівняйте отримані результати з класом з sklearn. Спробуйте додати нові шари для нашого класу та порівняти результати тоді. Поекспериментуйте з гіперпараметрами для обох класів."
   ]
  },
  {
   "cell_type": "code",
   "execution_count": 16,
   "metadata": {},
   "outputs": [],
   "source": [
    "from sklearn.neural_network import MLPClassifier\n",
    "clf = MLPClassifier(hidden_layer_sizes = (8,), max_iter = 1000000, activation = 'relu', solver = 'sgd', learning_rate_init = 0.01, learning_rate = 'constant')"
   ]
  },
  {
   "cell_type": "code",
   "execution_count": 17,
   "metadata": {},
   "outputs": [
    {
     "data": {
      "text/plain": [
       "MLPClassifier(hidden_layer_sizes=(8,), learning_rate_init=0.01,\n",
       "              max_iter=1000000, solver='sgd')"
      ]
     },
     "execution_count": 17,
     "metadata": {},
     "output_type": "execute_result"
    }
   ],
   "source": [
    "clf.fit(X, Y)"
   ]
  },
  {
   "cell_type": "code",
   "execution_count": 18,
   "metadata": {},
   "outputs": [
    {
     "data": {
      "image/png": "[encoded data removed]",
      "text/plain": [
       "<Figure size 432x288 with 1 Axes>"
      ]
     },
     "metadata": {
      "needs_background": "light"
     },
     "output_type": "display_data"
    }
   ],
   "source": [
    "plot_data(X, Y)\n",
    "plot_surface(clf, X[:, 0], X[:, 1])"
   ]
  },
  {
   "cell_type": "code",
   "execution_count": 19,
   "metadata": {},
   "outputs": [
    {
     "data": {
      "text/plain": [
       "0.6864406779661016"
      ]
     },
     "execution_count": 19,
     "metadata": {},
     "output_type": "execute_result"
    }
   ],
   "source": [
    "accuracy_score(Y, clf.predict(X))"
   ]
  },
  {
   "cell_type": "code",
   "execution_count": 20,
   "metadata": {},
   "outputs": [
    {
     "data": {
      "text/plain": [
       "1043"
      ]
     },
     "execution_count": 20,
     "metadata": {},
     "output_type": "execute_result"
    }
   ],
   "source": [
    "clf.n_iter_"
   ]
  },
  {
   "cell_type": "code",
   "execution_count": null,
   "metadata": {},
   "outputs": [],
   "source": []
  }
 ],
 "metadata": {
  "anaconda-cloud": {},
  "kernelspec": {
   "display_name": "Python 3",
   "language": "python",
   "name": "python3"
  },
  "language_info": {
   "codemirror_mode": {
    "name": "ipython",
    "version": 3
   },
   "file_extension": ".py",
   "mimetype": "text/x-python",
   "name": "python",
   "nbconvert_exporter": "python",
   "pygments_lexer": "ipython3",
   "version": "3.8.5"
  }
 },
 "nbformat": 4,
 "nbformat_minor": 1
}
